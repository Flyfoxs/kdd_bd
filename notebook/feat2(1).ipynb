{
 "cells": [
  {
   "cell_type": "code",
   "execution_count": 1,
   "metadata": {
    "ExecuteTime": {
     "end_time": "2019-06-13T06:52:31.784337Z",
     "start_time": "2019-06-13T06:52:30.993451Z"
    }
   },
   "outputs": [],
   "source": [
    "import pandas as pd\n",
    "import numpy as np\n",
    "from math import radians, cos, sin, asin, sqrt\n",
    "import geohash\n",
    "import lightgbm as lgb\n",
    "import time\n",
    "from collections import Counter\n",
    "from sklearn.metrics import f1_score\n",
    "from sklearn.feature_extraction.text import TfidfVectorizer\n",
    "from sklearn.decomposition import TruncatedSVD\n",
    "from sklearn.preprocessing import LabelEncoder\n",
    "from scipy import stats"
   ]
  },
  {
   "cell_type": "code",
   "execution_count": 2,
   "metadata": {
    "ExecuteTime": {
     "end_time": "2019-06-13T06:52:31.788326Z",
     "start_time": "2019-06-13T06:52:31.785339Z"
    }
   },
   "outputs": [],
   "source": [
    "data_path = '../input/data_set_phase2/'"
   ]
  },
  {
   "cell_type": "code",
   "execution_count": 3,
   "metadata": {
    "ExecuteTime": {
     "end_time": "2019-06-13T06:52:43.072271Z",
     "start_time": "2019-06-13T06:52:31.789325Z"
    }
   },
   "outputs": [],
   "source": [
    "profiles = pd.read_csv(f'{data_path}profiles.csv')\n",
    "test_plans = pd.read_csv(f'{data_path}test_plans.csv')\n",
    "test_queries = pd.read_csv(f'{data_path}test_queries.csv')\n",
    "train_clicks = pd.read_csv(f'{data_path}train_clicks_phase1.csv')\n",
    "train_plans = pd.read_csv(f'{data_path}train_plans_phase1.csv')\n",
    "train_queries = pd.read_csv(f'{data_path}train_queries_phase1.csv')\n",
    "\n",
    "old_train_clicks = pd.read_csv(f'{data_path}train_clicks_phase2.csv')\n",
    "old_train_plans = pd.read_csv(f'{data_path}train_plans_phase2.csv')\n",
    "old_train_queries = pd.read_csv(f'{data_path}train_queries_phase2.csv')"
   ]
  },
  {
   "cell_type": "code",
   "execution_count": 4,
   "metadata": {
    "ExecuteTime": {
     "end_time": "2019-06-13T06:52:44.760842Z",
     "start_time": "2019-06-13T06:52:43.073241Z"
    }
   },
   "outputs": [],
   "source": [
    "old_train_clicks['sid'] = old_train_clicks['sid'].map(lambda x:'2-'+str(x))\n",
    "train_clicks['sid'] = train_clicks['sid'].map(lambda x:'1-'+str(x))\n",
    "\n",
    "train_queries['sid'] = train_queries['sid'].map(lambda x:'2-'+str(x))\n",
    "old_train_queries['sid'] = old_train_queries['sid'].map(lambda x:'1-'+str(x))\n",
    "\n",
    "train_plans['sid'] = train_plans['sid'].map(lambda x:'2-'+str(x))\n",
    "old_train_plans['sid'] = old_train_plans['sid'].map(lambda x:'1-'+str(x))\n",
    "\n",
    "def concat_1(x,y):\n",
    "    return pd.concat([x,y], axis=0,ignore_index = True)"
   ]
  },
  {
   "cell_type": "code",
   "execution_count": 5,
   "metadata": {
    "ExecuteTime": {
     "end_time": "2019-06-13T06:52:45.525220Z",
     "start_time": "2019-06-13T06:52:44.761808Z"
    }
   },
   "outputs": [],
   "source": [
    "train_clicks = concat_1(train_clicks,old_train_clicks)\n",
    "train_queries = concat_1(train_queries,old_train_queries)\n",
    "train_plans = concat_1(train_plans,old_train_plans)\n",
    "\n",
    "\n",
    "#测试用\n",
    "# train_clicks = train_clicks.head(1000)\n",
    "# train_queries = train_queries.head(1000)\n",
    "# train_plans = train_plans.head(1000)"
   ]
  },
  {
   "cell_type": "code",
   "execution_count": 6,
   "metadata": {
    "ExecuteTime": {
     "end_time": "2019-06-13T06:52:45.788881Z",
     "start_time": "2019-06-13T06:52:45.526195Z"
    }
   },
   "outputs": [],
   "source": [
    "global fillna_value\n",
    "fillna_value = 0-1\n",
    "def fill_pid(x):\n",
    "    global fillna_value\n",
    "    result = fillna_value\n",
    "    fillna_value = fillna_value-1\n",
    "    return 0    #用0填充\n",
    "train_queries['pid'] = train_queries['pid'].map(lambda x:x if not np.isnan(x) else fill_pid(x))\n",
    "test_queries['pid'] = test_queries['pid'].map(lambda x:x if not np.isnan(x) else fill_pid(x))"
   ]
  },
  {
   "cell_type": "code",
   "execution_count": 7,
   "metadata": {
    "ExecuteTime": {
     "end_time": "2019-06-13T06:52:46.026268Z",
     "start_time": "2019-06-13T06:52:45.789879Z"
    }
   },
   "outputs": [
    {
     "name": "stdout",
     "output_type": "stream",
     "text": [
      "2018-10-01 07:20:35\n",
      "2018-11-30 22:08:26\n",
      "2018-12-01 00:00:02\n",
      "2018-12-07 23:59:36\n"
     ]
    }
   ],
   "source": [
    "print(train_plans['plan_time'].min())\n",
    "print(train_plans['plan_time'].max())\n",
    "print(test_plans['plan_time'].min())\n",
    "print(test_plans['plan_time'].max())"
   ]
  },
  {
   "cell_type": "code",
   "execution_count": 8,
   "metadata": {
    "ExecuteTime": {
     "end_time": "2019-06-13T06:52:48.335435Z",
     "start_time": "2019-06-13T06:52:46.027245Z"
    }
   },
   "outputs": [],
   "source": [
    "train_len = train_plans.shape[0]\n",
    "plans = pd.concat([train_plans,test_plans],ignore_index=True,sort=False)\n",
    "queries = pd.concat([train_queries,test_queries],ignore_index=True,sort=False)\n",
    "simple_set = queries.merge(plans,'left',['sid'])\n",
    "simple_set['plan_time'] = simple_set['plan_time'].fillna('-1')\n",
    "simple_set['plan_time'] = list(map(lambda x,y:x if y=='-1' else y,simple_set['req_time'],\n",
    "                                   simple_set['plan_time']))\n",
    "simple_set['plans'] = simple_set['plans'].fillna(\"[{'distance':3953,'price':300,'eta':1786,'transport_mode':0}]\")\n",
    "\n",
    "simple_set = simple_set.merge(train_clicks,'left',['sid']).fillna(0)\n",
    "simple_set = simple_set.merge(profiles,'left',['pid']).fillna(0)"
   ]
  },
  {
   "cell_type": "code",
   "execution_count": 9,
   "metadata": {
    "ExecuteTime": {
     "end_time": "2019-06-13T06:52:48.391320Z",
     "start_time": "2019-06-13T06:52:48.336429Z"
    }
   },
   "outputs": [],
   "source": [
    "def geodistance(lng1,lat1,lng2,lat2):\n",
    "    lng1, lat1, lng2, lat2 = map(radians, [lng1, lat1, lng2, lat2])\n",
    "    dlon=lng2-lng1\n",
    "    dlat=lat2-lat1\n",
    "    a=sin(dlat/2)**2 + cos(lat1) * cos(lat2) * sin(dlon/2)**2 \n",
    "    dis=2*asin(sqrt(a))*6371*1000\n",
    "    return dis\n",
    "\n",
    "def mhtdistance(lng1,lat1,lng2,lat2):\n",
    "    lng1, lat1, lng2, lat2 = map(radians, [lng1, lat1, lng2, lat2])\n",
    "    dlon=lng2-lng1\n",
    "    dlat=lat2-lat1\n",
    "    return (6371*1000)*(abs(dlon)+abs(dlat))\n",
    "\n",
    "def get_most_common(x):\n",
    "    return Counter(x).most_common(1)[0][0]\n",
    "\n",
    "def get_most_common2(x):\n",
    "    temp = Counter(x).most_common(2)\n",
    "    if len(temp)>1:\n",
    "        return temp[1][0]\n",
    "    else:\n",
    "        return 0\n",
    "    \n",
    "def get_mode(x):\n",
    "    return stats.mode(x)[0][0]\n",
    "\n",
    "def get_mode_count(x):\n",
    "    return stats.mode(x)[1][0]\n",
    "    \n",
    "def get_most_common3(x):\n",
    "    temp = Counter(x).most_common(3)\n",
    "    if len(temp)>2:\n",
    "        return temp[2][0]\n",
    "    else:\n",
    "        return 0\n",
    "    \n",
    "# 计算出发点到目的地的角度方向,参考的是wiki的内容\n",
    "def bearing_array(lat1, lng1, lat2, lng2):\n",
    "    AVG_EARTH_RADIUS = 6378.137  # in km\n",
    "    lng_delta_rad = np.radians(lng2 - lng1)\n",
    "    lat1, lng1, lat2, lng2 = map(np.radians, (lat1, lng1, lat2, lng2))\n",
    "    y = np.sin(lng_delta_rad) * np.cos(lat2)\n",
    "    x = np.cos(lat1) * np.sin(lat2) - np.sin(lat1) * np.cos(lat2) * np.cos(lng_delta_rad)\n",
    "    return np.degrees(np.arctan2(y, x))"
   ]
  },
  {
   "cell_type": "code",
   "execution_count": 10,
   "metadata": {
    "ExecuteTime": {
     "end_time": "2019-06-13T06:53:33.808634Z",
     "start_time": "2019-06-13T06:52:48.392290Z"
    }
   },
   "outputs": [
    {
     "name": "stdout",
     "output_type": "stream",
     "text": [
      "{'0': 1, '1': 2, '2': 3, '3': 4, '4': 5, '5': 6, '6': 7, '7': 8, '8': 9, '9': 10, 'b': 11, 'c': 12, 'd': 13, 'e': 14, 'f': 15, 'g': 16, 'h': 17, 'j': 18, 'k': 19, 'm': 20, 'n': 21, 'p': 22, 'q': 23, 'r': 24, 's': 25, 't': 26, 'u': 27, 'v': 28, 'w': 29, 'x': 30, 'y': 31, 'z': 32}\n"
     ]
    },
    {
     "name": "stderr",
     "output_type": "stream",
     "text": [
      "C:\\ProgramData\\Anaconda3\\lib\\site-packages\\ipykernel_launcher.py:88: RuntimeWarning: invalid value encountered in long_scalars\n"
     ]
    }
   ],
   "source": [
    "simple_set['req_time_str'] = simple_set['req_time'].map(lambda x:x[:13])\n",
    "\n",
    "simple_set['o_lng'] = simple_set['o'].map(lambda x:float(x.split(',')[0]))\n",
    "simple_set['o_lat'] = simple_set['o'].map(lambda x:float(x.split(',')[1]))\n",
    "simple_set['d_lng'] = simple_set['d'].map(lambda x:float(x.split(',')[0]))\n",
    "simple_set['d_lat'] = simple_set['d'].map(lambda x:float(x.split(',')[1]))\n",
    "\n",
    "simple_set['geodistance'] = list(map(geodistance,simple_set['o_lng'],simple_set['o_lat'],\n",
    "                                 simple_set['d_lng'],simple_set['d_lat']))\n",
    "simple_set['mhtdistance'] = list(map(mhtdistance,simple_set['o_lng'],simple_set['o_lat'],\n",
    "                                 simple_set['d_lng'],simple_set['d_lat']))\n",
    "\n",
    "simple_set['bearing_array'] = list(map(bearing_array,simple_set['o_lat'],simple_set['o_lng'],\n",
    "                                 simple_set['d_lat'],simple_set['d_lng']))\n",
    "\n",
    "\n",
    "simple_set['o_geohash'] = list(map(lambda x,y:geohash.encode(x,y,7),simple_set['o_lat'],\n",
    "                                   simple_set['o_lng']))\n",
    "simple_set['d_geohash'] = list(map(lambda x,y:geohash.encode(x,y,7),simple_set['d_lat'],\n",
    "                                   simple_set['d_lng']))\n",
    "simple_set['geodistance_rank'] = simple_set['geodistance'].rank()\n",
    "simple_set['geodistance_id'] = simple_set['geodistance_rank']//(simple_set.shape[0]/5000)\n",
    "\n",
    "base32 = {x:i+1 for i,x in enumerate(list('0123456789bcdefghjkmnpqrstuvwxyz') )}\n",
    "print(base32)\n",
    "def geohash2int(geohash_id):\n",
    "    result = 0\n",
    "    base = 1\n",
    "    for each in geohash_id[::-1]:\n",
    "        result = result + base32[each] * base\n",
    "        base = base*32\n",
    "    return result\n",
    "\n",
    "\n",
    "simple_set['o_geohash_num'] = simple_set['o_geohash'].map(geohash2int)%10000000\n",
    "simple_set['d_geohash_num'] = simple_set['d_geohash'].map(geohash2int)%10000000\n",
    "simple_set['lujing'] = simple_set['o_geohash_num']*10000000+simple_set['d_geohash_num']\n",
    "simple_set['juedui_lujing'] = list(map(lambda x,y:x*10000000+y if x>y else y*10000000+x,\n",
    "                     simple_set['o_geohash_num'], simple_set['d_geohash_num']))\n",
    "def get_plans_list(x):\n",
    "    result = eval(x)\n",
    "    for i,each in enumerate(result):\n",
    "        result[i]['price'] = 0 if result[i]['price'] =='' else int(each['price'])\n",
    "    return result\n",
    "\n",
    "def price_del_0(x):\n",
    "    sums = 0\n",
    "    geshu = 0\n",
    "    for each in x:\n",
    "        sums = sums+each\n",
    "        if each !=0:\n",
    "            geshu = geshu+each\n",
    "    if geshu !=0:\n",
    "        a = sums/geshu\n",
    "    else:\n",
    "        a = 0\n",
    "        \n",
    "    result = []\n",
    "    for each in x:\n",
    "        if each ==0:\n",
    "            result.append(a)\n",
    "        else:\n",
    "            result.append(each)\n",
    "    return result\n",
    "    \n",
    "simple_set['plans_list'] = simple_set['plans'].map(get_plans_list)\n",
    "\n",
    "simple_set['plans_price_list'] = simple_set['plans_list'].map(lambda x:[k['price'] for k in x])\n",
    "simple_set['plans_price_del_0_list'] = simple_set['plans_price_list'].map(price_del_0)\n",
    "\n",
    "simple_set['plans_distance_list'] = simple_set['plans_list'].map(lambda x:[k['distance'] for k in x])\n",
    "simple_set['plans_eta_list'] = simple_set['plans_list'].map(lambda x:[k['eta'] for k in x])\n",
    "simple_set['plans_mode_list'] = simple_set['plans_list'].map(lambda x:[k['transport_mode'] for k in x])\n",
    "\n",
    "simple_set['plans_distance_/_eta_list'] = simple_set['plans_list'].map(lambda x:[k['distance']/k['eta'] \\\n",
    "                                                                               for k in x])\n",
    "simple_set['plans_price_/_distance_list'] = simple_set['plans_list'].map(lambda x:[k['price']/ \\\n",
    "                                                                      k['distance'] for k in x])\n",
    "\n",
    "simple_set['plans_price_/_eta_list'] = simple_set['plans_list'].map(lambda x:[k['price']/k['eta'] \\\n",
    "                                                                               for k in x])\n",
    "\n",
    "simple_set['plans_price_*_eta_list'] = simple_set['plans_list'].map(lambda x:[k['price']*k['eta'] \\\n",
    "                                                                               for k in x])\n",
    "simple_set['plans_distance_list/_geodistance'] = list(map(lambda x,y:[i/(y+0.001) for i in x],\n",
    "                                            simple_set['plans_distance_list'],simple_set['geodistance']))\n",
    "simple_set['plans_distance_list/_mhtdistance'] = list(map(lambda x,y:[i/(y+0.001) for i in x],\n",
    "                                            simple_set['plans_distance_list'],simple_set['mhtdistance']))\n",
    "simple_set['plans_distance_list/max'] = simple_set['plans_distance_list'].map(lambda x:\n",
    "                                                                [i/np.max(x) for i in x])\n",
    "simple_set['plans_price_list/max'] = simple_set['plans_price_list'].map(lambda x:\n",
    "                                                                [i/np.max(x) for i in x])\n",
    "simple_set['plans_eta_list/max'] = simple_set['plans_eta_list'].map(lambda x:\n",
    "                                                                [i/np.max(x) for i in x])\n"
   ]
  },
  {
   "cell_type": "code",
   "execution_count": 11,
   "metadata": {
    "ExecuteTime": {
     "end_time": "2019-06-13T06:53:35.705563Z",
     "start_time": "2019-06-13T06:53:33.809631Z"
    }
   },
   "outputs": [],
   "source": [
    "pid_geodistance = simple_set.groupby(['pid'],as_index = False)['geodistance'].agg({\n",
    "    'pid_count':'count','pid_geodistance_mean':'mean','pid_geodistance_sum':'sum',\n",
    "    'pid_geodistance_max':'max','pid_geodistance_min':'min','pid_geodistance_std':'std'\n",
    "})\n",
    "simple_set = simple_set.merge(pid_geodistance,'left',['pid'])\n"
   ]
  },
  {
   "cell_type": "code",
   "execution_count": 12,
   "metadata": {
    "ExecuteTime": {
     "end_time": "2019-06-13T06:53:35.962875Z",
     "start_time": "2019-06-13T06:53:35.706559Z"
    }
   },
   "outputs": [],
   "source": [
    "simple_set['plans_distance_list/pid_geodistance_mean'] = list(map(lambda x,y:[i/(y+0.001) for i in x],\n",
    "                    simple_set['plans_distance_list'],simple_set['pid_geodistance_mean']))\n",
    "#用户推荐的前几个分别是啥"
   ]
  },
  {
   "cell_type": "code",
   "execution_count": 13,
   "metadata": {
    "ExecuteTime": {
     "end_time": "2019-06-13T06:56:58.149431Z",
     "start_time": "2019-06-13T06:53:35.963873Z"
    }
   },
   "outputs": [
    {
     "name": "stderr",
     "output_type": "stream",
     "text": [
      "C:\\ProgramData\\Anaconda3\\lib\\site-packages\\numpy\\core\\fromnumeric.py:83: RuntimeWarning: invalid value encountered in reduce\n",
      "  return ufunc.reduce(obj, axis, dtype, out, **passkwargs)\n"
     ]
    }
   ],
   "source": [
    "list_col = ['plans_price_list','plans_distance_list','plans_eta_list','plans_mode_list',\n",
    "           'plans_distance_/_eta_list','plans_price_/_distance_list','plans_price_/_eta_list',\n",
    "           'plans_price_*_eta_list','plans_distance_list/_geodistance','plans_distance_list/_mhtdistance',\n",
    "           'plans_distance_list/max','plans_price_list/max','plans_eta_list/max',\n",
    "            'plans_distance_list/pid_geodistance_mean','plans_price_del_0_list']\n",
    "\n",
    "def get_list_feat(simple_set,list_feat_col):\n",
    "    simple_set[f'{list_feat_col}_max'] = simple_set[list_feat_col].map(lambda x:np.max(x))\n",
    "    simple_set[f'{list_feat_col}_min'] = simple_set[list_feat_col].map(lambda x:np.min(x))\n",
    "    simple_set[f'{list_feat_col}_argmax'] = simple_set[list_feat_col].map(lambda x:np.argmax(x))\n",
    "    simple_set[f'{list_feat_col}_argmin'] = simple_set[list_feat_col].map(lambda x:np.argmin(x))\n",
    "    simple_set[f'{list_feat_col}_std'] = simple_set[list_feat_col].map(lambda x:np.std(x))\n",
    "    simple_set[f'{list_feat_col}_mean'] = simple_set[list_feat_col].map(lambda x:np.mean(x))\n",
    "    simple_set[f'{list_feat_col}_1th'] = simple_set[list_feat_col].map(lambda x:x[0])\n",
    "    simple_set[f'{list_feat_col}_2th'] = simple_set[list_feat_col].map(lambda x:0 if len(x)<2 else x[1])\n",
    "    simple_set[f'{list_feat_col}_3th'] = simple_set[list_feat_col].map(lambda x:0 if len(x)<3 else x[2])\n",
    "#     simple_set[f'{list_feat_col}_4th'] = simple_set[list_feat_col].map(lambda x:x[3])\n",
    "\n",
    "    simple_set[f'{list_feat_col}_max_mode_cate'] = list(map(lambda x,y:y[x],\n",
    "                        simple_set[f'{list_feat_col}_argmax'],simple_set['plans_mode_list']))\n",
    "    simple_set[f'{list_feat_col}_min_mode_cate'] = list(map(lambda x,y:y[x],\n",
    "                        simple_set[f'{list_feat_col}_argmin'],simple_set['plans_mode_list']))\n",
    "    \n",
    "    simple_set[f'{list_feat_col}_max_eta'] = list(map(lambda x,y:y[x],\n",
    "                        simple_set[f'{list_feat_col}_argmax'],simple_set['plans_eta_list']))\n",
    "    simple_set[f'{list_feat_col}_min_eta'] = list(map(lambda x,y:y[x],\n",
    "                        simple_set[f'{list_feat_col}_argmin'],simple_set['plans_eta_list']))\n",
    "    \n",
    "    simple_set[f'{list_feat_col}_max_distance'] = list(map(lambda x,y:y[x],\n",
    "                        simple_set[f'{list_feat_col}_argmax'],simple_set['plans_distance_list']))\n",
    "    simple_set[f'{list_feat_col}_min_distance'] = list(map(lambda x,y:y[x],\n",
    "                        simple_set[f'{list_feat_col}_argmin'],simple_set['plans_distance_list']))\n",
    "    \n",
    "    simple_set[f'{list_feat_col}_max_price'] = list(map(lambda x,y:y[x],\n",
    "                        simple_set[f'{list_feat_col}_argmax'],simple_set['plans_price_list']))\n",
    "    simple_set[f'{list_feat_col}_min_price'] = list(map(lambda x,y:y[x],\n",
    "                        simple_set[f'{list_feat_col}_argmin'],simple_set['plans_price_list']))\n",
    "    \n",
    "for each in list_col:\n",
    "    get_list_feat(simple_set,each)\n",
    "simple_set['plans_mode_list_4th'] = simple_set['plans_mode_list'].map(lambda x:0 if len(x)<4 else x[3])\n",
    "simple_set['plans_mode_list_5th'] = simple_set['plans_mode_list'].map(lambda x:0 if len(x)<5 else x[4])\n",
    "simple_set['plans_mode_list_6th'] = simple_set['plans_mode_list'].map(lambda x:0 if len(x)<6 else x[5])\n",
    "simple_set['plans_mode_list_7th'] = simple_set['plans_mode_list'].map(lambda x:0 if len(x)<7 else x[6])\n",
    "simple_set['mode_list_encode12_cate'] = simple_set['plans_mode_list_1th']*12+simple_set['plans_mode_list_2th']\n",
    "simple_set['mode_list_encode123'] = simple_set['mode_list_encode12_cate']*12+simple_set['plans_mode_list_3th']\n",
    "simple_set['mode_list_encode1234'] = simple_set['mode_list_encode123']*12+simple_set['plans_mode_list_4th']"
   ]
  },
  {
   "cell_type": "code",
   "execution_count": 14,
   "metadata": {
    "ExecuteTime": {
     "end_time": "2019-06-13T06:57:08.789097Z",
     "start_time": "2019-06-13T06:56:58.150350Z"
    }
   },
   "outputs": [],
   "source": [
    "def get_rank(x,z):\n",
    "    for kk,each in enumerate(x):\n",
    "        if each ==z:\n",
    "            return kk\n",
    "    return 10\n",
    "\n",
    "for i in range(11):\n",
    "    simple_set[f'plans_mode_list_has_{i+1}'] = simple_set['plans_mode_list'].map(\n",
    "        lambda x:Counter(x).get(i+1)).fillna(0)\n",
    "    simple_set[f'plans_mode_list_{i+1}_rank'] = simple_set['plans_mode_list'].map(lambda x:get_rank(x,i+1))"
   ]
  },
  {
   "cell_type": "code",
   "execution_count": 15,
   "metadata": {
    "ExecuteTime": {
     "end_time": "2019-06-13T06:57:10.168798Z",
     "start_time": "2019-06-13T06:57:08.790082Z"
    }
   },
   "outputs": [],
   "source": [
    "plan_time = pd.to_datetime(simple_set['plan_time'])\n",
    "req_time = pd.to_datetime(simple_set['req_time'])\n",
    "\n",
    "simple_set['plan_time_req_time_Pvalue'] = plan_time.map(lambda x:x.value)//10**9-req_time.map(\n",
    "    lambda x:x.value)//10**9\n",
    "simple_set['plan_time_month'] = req_time.dt.month\n",
    "simple_set['plan_time_day'] = req_time.dt.day\n",
    "simple_set['plan_time_dayofyear'] = req_time.dt.dayofyear\n",
    "simple_set['plan_time_hour'] = req_time.dt.hour\n",
    "simple_set['plan_time_minute'] = req_time.dt.minute\n",
    "simple_set['plan_hour_minute'] = simple_set['plan_time_hour']*60+simple_set['plan_time_minute']\n",
    "simple_set['plan_time_dayofweek'] = req_time.dt.dayofweek\n",
    "simple_set['plan_time_weekend'] = simple_set['plan_time_dayofweek'].map(lambda x:0 if x<2 else 1)\n",
    "simple_set['hour_time'] = simple_set['plan_time_hour']+ simple_set['plan_time_dayofyear']*24\n",
    "simple_set['guoqing'] = simple_set['plan_time'].map(lambda x:0 if x<'2018-10-08 00:00:00' else 1)\n",
    "hour_range_dict = {0:1,1:1,2:1,3:1,4:1,5:1,6:2,7:2,8:2,9:2,10:3,11:3,12:4,13:4,14:4,\n",
    "                   15:5,16:5,17:5,18:6,19:6,20:7,21:7,22:7,23:7}\n",
    "simple_set['hour_range'] = simple_set['plan_time_hour'].map(hour_range_dict)\n",
    "simple_set['plan_time_hour_12'] = simple_set['plan_time_hour'].map(\n",
    "         lambda x:x+12 if x<12 else x-12)"
   ]
  },
  {
   "cell_type": "code",
   "execution_count": null,
   "metadata": {},
   "outputs": [],
   "source": []
  },
  {
   "cell_type": "code",
   "execution_count": null,
   "metadata": {
    "ExecuteTime": {
     "start_time": "2019-06-13T06:52:31.022Z"
    }
   },
   "outputs": [
    {
     "name": "stdout",
     "output_type": "stream",
     "text": [
      "['hour_time'] count\n",
      "['plan_time_hour'] count\n",
      "['pid'] count\n",
      "['plan_time_hour', 'd_geohash_num'] count\n",
      "['o', 'd'] count\n"
     ]
    }
   ],
   "source": [
    "agg_list = ['mean','sum','min','max','std','skew']\n",
    "common_list = [get_mode,get_mode_count,get_most_common2,get_most_common3]\n",
    "def groupby_merge(simple_set,on_col_list,feat_col,aggs,name= ''):\n",
    "    on_col_str = '_'.join(on_col_list)\n",
    "    agg_dict = {f'{name}{on_col_str}_on_{feat_col}_{x}':x for x in aggs}\n",
    "    feat = simple_set.groupby(on_col_list,as_index = False)[feat_col].agg(\n",
    "                                agg_dict)\n",
    "    simple_set = simple_set.merge(feat,'left',on_col_list)\n",
    "    return simple_set\n",
    "\n",
    "#    hour_time plan_time_hour geodistance pid plan_time_hour_12 o_geohash_num\n",
    "#  d_geohash_num juedui_lujing lujing geodistance_id\n",
    "on_list = [['hour_time'],['plan_time_hour'],\n",
    "#            ['geodistance_id'],\n",
    "           ['pid'],\n",
    "#                 ['o_geohash_num'],['d_geohash_num'],\n",
    "#            ['plan_time_hour','o_geohash_num'],\n",
    "#            ['pid','o_geohash_num'],\n",
    "           ['plan_time_hour','d_geohash_num'],\n",
    "           ['o','d'],\n",
    "#            ['o'],['d'],\n",
    "#            ['pid','d_geohash_num'],\n",
    "#            ['pid','lujing'], \n",
    "           ['pid','plan_time_hour'],\n",
    "#           ['juedui_lujing'],['lujing'],['lujing','plan_time_hour']\n",
    "          ]\n",
    "num_list = ['plans_price_/_eta_list_1th',\n",
    "           ]\n",
    "\n",
    "for each in on_list:\n",
    "    simple_set = groupby_merge(simple_set,each,'geodistance',['count'])\n",
    "    print(each,'count')\n",
    "    simple_set = groupby_merge(simple_set,each,'plans_mode_list_1th',\n",
    "                               common_list,'cate_')\n",
    "\n",
    "#r如果太慢，注释这下面的代码，这段代码不一定提分，跑的还慢\n",
    "for on_each in on_list:\n",
    "    for num_each in num_list:\n",
    "        if num_each in on_each:\n",
    "            continue\n",
    "        if num_each == 'plan_time_hour_12' and 'plan_time_hour' in on_each:\n",
    "            continue\n",
    "        if  num_each == 'geodistance' and 'juedui_lujing' in on_each:\n",
    "            continue\n",
    "        if  num_each == 'geodistance' and 'lujing' in on_each:\n",
    "            continue\n",
    "        simple_set = groupby_merge(simple_set,on_each,num_each,agg_list)\n",
    "        print(on_each,num_each)\n"
   ]
  },
  {
   "cell_type": "code",
   "execution_count": null,
   "metadata": {
    "ExecuteTime": {
     "start_time": "2019-06-13T06:52:31.042Z"
    }
   },
   "outputs": [],
   "source": [
    "simple_set"
   ]
  },
  {
   "cell_type": "markdown",
   "metadata": {},
   "source": [
    "2018-10-01 00:00:10 \n",
    "2018-11-30 23:59:17 \n",
    "2018-12-01 00:00:10 \n",
    "2018-12-07 23:59:31 "
   ]
  },
  {
   "cell_type": "code",
   "execution_count": null,
   "metadata": {
    "ExecuteTime": {
     "start_time": "2019-06-13T06:52:31.045Z"
    }
   },
   "outputs": [],
   "source": [
    "text_dict = {}\n",
    "simple_set['plans_mode_str_list'] = simple_set['plans_mode_list'].map(\n",
    "    lambda x:list(map(str,x)))\n",
    "\n",
    "# mode_pid = simple_set['']\n",
    "def list2str(x,y):\n",
    "    result = []\n",
    "    for i,each in enumerate(x):\n",
    "        result.append(x[i]+'_'+y) \n",
    "    return ' '.join(result)\n",
    "        \n",
    "text_dict['mode_pid_text'] = list(map(list2str ,simple_set['plans_mode_str_list'],\n",
    "                                      simple_set['pid'].map(int).map(str)))\n",
    "text_dict['mode_geodistance_id_text'] = list(map(list2str,\n",
    "                                        simple_set['plans_mode_str_list'],\n",
    "                            simple_set['geodistance_id'].map(int).map(str)))\n",
    "text_dict['mode_o_geohash_num_text'] = list(map(list2str ,\n",
    "                                                simple_set['plans_mode_str_list'],\n",
    "                            simple_set['o_geohash_num'].map(int).map(str)))\n",
    "\n",
    "text_dict['mode_d_geohash_num_text'] = list(map(list2str ,\n",
    "                                                simple_set['plans_mode_str_list'],\n",
    "                            simple_set['d_geohash_num'].map(int).map(str)))\n",
    "text_dict['mode_lujing_text'] = list(map(list2str ,\n",
    "                                                simple_set['plans_mode_str_list'],\n",
    "                            simple_set['lujing'].map(str)))\n",
    "\n",
    "text_dict['mode_plan_time_hour_text'] = list(map(list2str ,\n",
    "                                                simple_set['plans_mode_str_list'],\n",
    "                            simple_set['plan_time_hour'].map(str)))\n",
    "def mode_eta2str(x,y):\n",
    "    result = []\n",
    "    for i,each in enumerate(x):\n",
    "        result.append(x[i]+'_'+str(y[i]//60))\n",
    "    return ' '.join(result)\n",
    "\n",
    "def mode_distance2str(x,y):\n",
    "    result = []\n",
    "    for i,each in enumerate(x):\n",
    "        result.append(x[i]+'_'+str(y[i]//1000))\n",
    "    return ' '.join(result)\n",
    "\n",
    "text_dict['mode_eta_text'] = list(map(mode_eta2str ,\n",
    "                                      simple_set['plans_mode_str_list'],\n",
    "                                    simple_set['plans_eta_list']))\n",
    "text_dict['mode_distance_text'] = list(map(mode_distance2str ,\n",
    "                                           simple_set['plans_mode_str_list'],\n",
    "                                    simple_set['plans_distance_list']))\n",
    "def mode_cixu2str(x):\n",
    "    result = []\n",
    "    for i,each in enumerate(x):\n",
    "        result.append(x[i]+'_'+str(i))\n",
    "    return ' '.join(result)\n",
    "    \n",
    "text_dict['mode_cixu_text'] = list(map(mode_cixu2str ,\n",
    "                                       simple_set['plans_mode_str_list']))\n",
    "def mode2str(x):\n",
    "    result = []\n",
    "    for i,each in enumerate(x):\n",
    "        result.append(x[i]+'_'+'mode')\n",
    "    return ' '.join(result)\n",
    "text_dict['mode_text'] = list(map(mode2str ,\n",
    "                                simple_set['plans_mode_str_list']))\n",
    "\n",
    "tfidf_enc = TfidfVectorizer(ngram_range=(1, 2))\n",
    "svd_enc = TruncatedSVD(n_components=10, n_iter=20, random_state=2019)\n",
    "\n",
    "svd_feat_list = []\n",
    "for each in text_dict:\n",
    "    each_tfidf_vec = tfidf_enc.fit_transform(text_dict[each])\n",
    "    each_mode_svd = svd_enc.fit_transform(each_tfidf_vec)\n",
    "    \n",
    "    each_mode_svd = pd.DataFrame(each_mode_svd)\n",
    "    each_mode_svd.columns = [f'svd_{each}_{i}' for i in range(10)]\n",
    "    svd_feat_list.append(each_mode_svd)\n",
    "    \n",
    "    \n",
    "    "
   ]
  },
  {
   "cell_type": "code",
   "execution_count": null,
   "metadata": {
    "ExecuteTime": {
     "start_time": "2019-06-13T06:52:31.047Z"
    }
   },
   "outputs": [],
   "source": [
    "del simple_set['click_time']"
   ]
  },
  {
   "cell_type": "code",
   "execution_count": null,
   "metadata": {
    "ExecuteTime": {
     "start_time": "2019-06-13T06:52:31.049Z"
    }
   },
   "outputs": [],
   "source": [
    "simple_set = pd.concat([simple_set]+svd_feat_list, axis=1)"
   ]
  },
  {
   "cell_type": "code",
   "execution_count": null,
   "metadata": {
    "ExecuteTime": {
     "start_time": "2019-06-13T06:52:31.051Z"
    }
   },
   "outputs": [],
   "source": [
    "str_col = simple_set.select_dtypes(include=['object']).columns.tolist()\n",
    "ignore_col = ['click_mode','sid']\n",
    "pre_col = [x for x in simple_set.columns if x not in str_col+ignore_col]\n",
    "print('This columns NOT use in lgb:',pre_col)\n",
    "simple_set.to_csv('xuan_feat.csv',index =False)"
   ]
  },
  {
   "cell_type": "code",
   "execution_count": null,
   "metadata": {
    "ExecuteTime": {
     "start_time": "2019-06-13T06:52:31.053Z"
    }
   },
   "outputs": [],
   "source": [
    "# str_col = simple_set.select_dtypes(include=['object']).columns.tolist()\n",
    "# ignore_col = ['click_mode','sid']\n",
    "# pre_col = [x for x in simple_set.columns if x not in str_col+ignore_col]\n",
    "\n",
    "# train_index = (simple_set.req_time < '2018-11-16')\n",
    "# train_x     = simple_set[train_index][pre_col].reset_index(drop=True)\n",
    "# train_y     = simple_set[train_index].click_mode.reset_index(drop=True)\n",
    "\n",
    "# valid_index = (simple_set.req_time > '2018-11-16') & (simple_set.req_time < '2018-12-01')\n",
    "# valid_x     = simple_set[valid_index][pre_col].reset_index(drop=True)\n",
    "# valid_y     = simple_set[valid_index].click_mode.reset_index(drop=True)\n",
    "\n",
    "# test_index = (simple_set.req_time > '2018-12-01')\n",
    "# test_x     = simple_set[test_index][pre_col].reset_index(drop=True)"
   ]
  },
  {
   "cell_type": "code",
   "execution_count": null,
   "metadata": {
    "ExecuteTime": {
     "start_time": "2019-06-13T06:52:31.054Z"
    }
   },
   "outputs": [],
   "source": [
    "# cate_list = [f'plans_mode_list_{x+1}th' for x in range(7)]+\\\n",
    "#   ['mode_list_encode12_cate'] + [x for x in pre_col if 'cate' in x]\n",
    "# # cate_list\n",
    "# cate_list = []"
   ]
  },
  {
   "cell_type": "code",
   "execution_count": null,
   "metadata": {
    "ExecuteTime": {
     "start_time": "2019-06-13T06:52:31.056Z"
    }
   },
   "outputs": [],
   "source": [
    "# def f1_weighted(labels,preds):\n",
    "#     preds = np.argmax(preds.reshape(12, -1), axis=0)\n",
    "#     score = f1_score(y_true=labels, y_pred=preds, average='weighted')\n",
    "#     return 'f1_weighted', score, True\n",
    "\n",
    "# lgb_model = lgb.LGBMClassifier(boosting_type=\"gbdt\", num_leaves=61, reg_alpha=0, reg_lambda=0.01,\n",
    "#     max_depth=-1, n_estimators=2000, objective='multiclass',\n",
    "#     subsample=0.8, colsample_bytree=0.8, subsample_freq=1,min_child_samples = 50,  \n",
    "#                             learning_rate=0.05, random_state=2019, metric=\"None\",n_jobs=-1)\n",
    "# eval_set = [(valid_x, valid_y)]\n",
    "# lgb_model.fit(train_x, train_y, eval_set=eval_set, eval_metric=f1_weighted,\n",
    "#               categorical_feature=cate_list, verbose=10, early_stopping_rounds=100)\n",
    "\n",
    "# # [158]\tvalid_0's f1_weighted: 0.689149      0.69155313\n",
    "# # [391]\tvalid_0's f1_weighted: 0.689904\n",
    "# # [226]\tvalid_0's f1_weighted: 0.691119\n",
    "# # [444]\tvalid_0's f1_weighted: 0.691219\n",
    "# # [207]\tvalid_0's f1_weighted: 0.692387      0.69396139\n",
    "# # [243]\tvalid_0's f1_weighted: 0.691971\n",
    "# # [285]\tvalid_0's f1_weighted: 0.691804 0.69361978   "
   ]
  },
  {
   "cell_type": "code",
   "execution_count": null,
   "metadata": {
    "ExecuteTime": {
     "start_time": "2019-06-13T06:52:31.060Z"
    }
   },
   "outputs": [],
   "source": [
    "# imp = pd.DataFrame()\n",
    "# imp['fea'] = pre_col\n",
    "# imp['imp'] = lgb_model.feature_importances_ \n",
    "# imp = imp.sort_values('imp',ascending = False)\n",
    "# imp.to_csv('../output/imp_baseline.csv')\n",
    "# imp"
   ]
  },
  {
   "cell_type": "code",
   "execution_count": null,
   "metadata": {
    "ExecuteTime": {
     "start_time": "2019-06-13T06:52:31.062Z"
    }
   },
   "outputs": [],
   "source": [
    "# all_train_x = simple_set[simple_set.req_time < '2018-12-01'][pre_col].reset_index(drop=True)\n",
    "# all_train_y = simple_set[simple_set.req_time < '2018-12-01'].click_mode.reset_index(drop=True)\n",
    "# print(lgb_model.best_iteration_)\n",
    "# lgb_model.n_estimators   = lgb_model.best_iteration_\n",
    "# lgb_model.fit(all_train_x, all_train_y,categorical_feature=[])\n",
    "# print('fit over')\n",
    "# result  = pd.DataFrame()\n",
    "# result['sid'] = simple_set[test_index]['sid']\n",
    "# result['recommend_mode'] = lgb_model.predict(test_x)\n",
    "# result['recommend_mode'] = result['recommend_mode'].astype(int)\n",
    "# print(len(result))\n",
    "# print(result['recommend_mode'].value_counts())\n",
    "# result[['sid', 'recommend_mode']].to_csv('../output/baseline.csv', index=False)"
   ]
  },
  {
   "cell_type": "code",
   "execution_count": null,
   "metadata": {
    "ExecuteTime": {
     "start_time": "2019-06-13T06:52:31.064Z"
    }
   },
   "outputs": [],
   "source": [
    "# result['plans'] = simple_set[test_index]['plans']\n",
    "# a = result[result['plans'] == \"[{'distance':3953,'price':300,'eta':1786,'transport_mode':0}]\"]"
   ]
  },
  {
   "cell_type": "code",
   "execution_count": null,
   "metadata": {
    "ExecuteTime": {
     "start_time": "2019-06-13T06:52:31.066Z"
    }
   },
   "outputs": [],
   "source": [
    "# a.recommend_mode.value_counts()"
   ]
  },
  {
   "cell_type": "code",
   "execution_count": null,
   "metadata": {
    "ExecuteTime": {
     "start_time": "2019-06-13T06:52:31.067Z"
    }
   },
   "outputs": [],
   "source": [
    "# simple_set.to_csv('../cache/feat_pid_1.csv',index= False)"
   ]
  },
  {
   "cell_type": "code",
   "execution_count": null,
   "metadata": {
    "ExecuteTime": {
     "start_time": "2019-06-13T06:52:31.069Z"
    }
   },
   "outputs": [],
   "source": [
    "# a = pd.read_csv('../output/sub_04-27-01-51.csv')\n",
    "# f = result.merge(a,'left',['sid'])\n",
    "# (f['recommend_mode'] - f['recommended_mode']).value_counts()"
   ]
  },
  {
   "cell_type": "code",
   "execution_count": null,
   "metadata": {
    "ExecuteTime": {
     "start_time": "2019-06-13T06:52:31.070Z"
    }
   },
   "outputs": [],
   "source": [
    "#转化率特征"
   ]
  },
  {
   "cell_type": "code",
   "execution_count": null,
   "metadata": {},
   "outputs": [],
   "source": []
  }
 ],
 "metadata": {
  "kernelspec": {
   "display_name": "Python 3",
   "language": "python",
   "name": "python3"
  },
  "language_info": {
   "codemirror_mode": {
    "name": "ipython",
    "version": 3
   },
   "file_extension": ".py",
   "mimetype": "text/x-python",
   "name": "python",
   "nbconvert_exporter": "python",
   "pygments_lexer": "ipython3",
   "version": "3.6.4"
  }
 },
 "nbformat": 4,
 "nbformat_minor": 2
}
