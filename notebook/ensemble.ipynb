{
 "cells": [
  {
   "cell_type": "code",
   "execution_count": 36,
   "metadata": {},
   "outputs": [
    {
     "data": {
      "text/html": [
       "<div>\n",
       "<style scoped>\n",
       "    .dataframe tbody tr th:only-of-type {\n",
       "        vertical-align: middle;\n",
       "    }\n",
       "\n",
       "    .dataframe tbody tr th {\n",
       "        vertical-align: top;\n",
       "    }\n",
       "\n",
       "    .dataframe thead th {\n",
       "        text-align: right;\n",
       "    }\n",
       "</style>\n",
       "<table border=\"1\" class=\"dataframe\">\n",
       "  <thead>\n",
       "    <tr style=\"text-align: right;\">\n",
       "      <th></th>\n",
       "      <th>recommend_mode</th>\n",
       "      <th>recommend_mode</th>\n",
       "      <th>recommend_mode</th>\n",
       "    </tr>\n",
       "  </thead>\n",
       "  <tbody>\n",
       "    <tr>\n",
       "      <th>recommend_mode</th>\n",
       "      <td>1.000000</td>\n",
       "      <td>0.949510</td>\n",
       "      <td>0.938865</td>\n",
       "    </tr>\n",
       "    <tr>\n",
       "      <th>recommend_mode</th>\n",
       "      <td>0.949510</td>\n",
       "      <td>1.000000</td>\n",
       "      <td>0.944119</td>\n",
       "    </tr>\n",
       "    <tr>\n",
       "      <th>recommend_mode</th>\n",
       "      <td>0.938865</td>\n",
       "      <td>0.944119</td>\n",
       "      <td>1.000000</td>\n",
       "    </tr>\n",
       "  </tbody>\n",
       "</table>\n",
       "</div>"
      ],
      "text/plain": [
       "                  recommend_mode  recommend_mode   recommend_mode\n",
       " recommend_mode         1.000000        0.949510         0.938865\n",
       "recommend_mode          0.949510        1.000000         0.944119\n",
       " recommend_mode         0.938865        0.944119         1.000000"
      ]
     },
     "execution_count": 36,
     "metadata": {},
     "output_type": "execute_result"
    }
   ],
   "source": [
    "import pandas as pd\n",
    "from glob import glob\n",
    "from scipy import stats\n",
    "import csv\n",
    "\n",
    "def vote():\n",
    "    tmp_list = []\n",
    "    for sn, file in enumerate(glob('../output/ensemble/vote/*.csv')):\n",
    "        \n",
    "        print(sn,file)\n",
    "        tmp = pd.read_csv(file)\n",
    "        tmp = tmp.set_index('sid')\n",
    "        #print(tmp.shape)\n",
    "        tmp_list.append(tmp)\n",
    "    res = pd.concat(tmp_list, axis=1)\n",
    "    res = res.astype(int)\n",
    "    \n",
    "#     res.columns = [f'{item}_bk' for item in res.columns]\n",
    "    \n",
    "#     res['recommend_mode'] = res.apply(lambda item : stats.mode(item.values)[0][0], axis=1 )\n",
    "#     res['avg'] = res.mean(axis=1)\n",
    "#     res['gap'] = abs(res.avg - res.recommend_mode)\n",
    "#     res[['recommend_mode']].to_csv('../output/sub/vote.csv', quoting=csv.QUOTE_ALL)\n",
    "    \n",
    "    return res#.sort_values(['gap'])\n",
    "\n",
    "res.corr()\n",
    "\n",
    " "
   ]
  },
  {
   "cell_type": "code",
   "execution_count": null,
   "metadata": {
    "collapsed": true
   },
   "outputs": [],
   "source": [
    "\n",
    "def vali_sub(sub):\n",
    "    feature = get_feature()\n",
    "\n",
    "    test = feature.loc[(feature.label=='test')&\n",
    "                          (feature.click_mode == -1) &\n",
    "                          (feature.o_seq_0 == 0) ]\n",
    "\n",
    "    choose = sub.join(feature)\n",
    "\n",
    "\n",
    "\n",
    "    if sub is not None:\n",
    "        check_cnt = sub.loc[test.index,'recommend_mode'].astype(int).sum()\n",
    "        print(check_cnt)\n",
    "        if check_cnt > 0:\n",
    "            logger.error(f'❌There are {check_cnt} predictions is incorrect')\n",
    "        else:\n",
    "            logger.info(f'✔️No plan prediction is incorrect')\n",
    "    else:\n",
    "        return test\n"
   ]
  },
  {
   "cell_type": "code",
   "execution_count": null,
   "metadata": {
    "collapsed": true
   },
   "outputs": [],
   "source": []
  }
 ],
 "metadata": {
  "kernelspec": {
   "display_name": "Python 3",
   "language": "python",
   "name": "python3"
  },
  "language_info": {
   "codemirror_mode": {
    "name": "ipython",
    "version": 3
   },
   "file_extension": ".py",
   "mimetype": "text/x-python",
   "name": "python",
   "nbconvert_exporter": "python",
   "pygments_lexer": "ipython3",
   "version": "3.6.8"
  }
 },
 "nbformat": 4,
 "nbformat_minor": 2
}
